{
 "cells": [
  {
   "cell_type": "code",
   "execution_count": 1,
   "metadata": {
    "id": "vBF3NfKWkT2W"
   },
   "outputs": [],
   "source": [
    "# Importing Necessary Libraries\n",
    "import requests\n",
    "from bs4 import BeautifulSoup as bs"
   ]
  },
  {
   "cell_type": "code",
   "execution_count": 2,
   "metadata": {
    "colab": {
     "base_uri": "https://localhost:8080/"
    },
    "id": "K2E9-HemkZeO",
    "outputId": "9e41ae25-a6d7-4bb3-e555-86b12fb1b90f"
   },
   "outputs": [
    {
     "data": {
      "text/plain": [
       "<Response [503]>"
      ]
     },
     "execution_count": 2,
     "metadata": {},
     "output_type": "execute_result"
    }
   ],
   "source": [
    "# Product URL\n",
    "url = 'https://www.amazon.in/HP-LaserJet-M126nw-Multi-Function-Monochrome/product-reviews/B00LO3NQYY/ref=cm_cr_othr_d_show_all_btm?ie=UTF8&reviewerType=all_reviews'\n",
    "# Calling Request\n",
    "code = requests.get(url)\n",
    "code"
   ]
  },
  {
   "cell_type": "code",
   "execution_count": 3,
   "metadata": {
    "id": "a7ByYLR3lfcw"
   },
   "outputs": [],
   "source": [
    "soup = bs(code.content,'html.parser')\n"
   ]
  },
  {
   "cell_type": "code",
   "execution_count": 4,
   "metadata": {
    "colab": {
     "base_uri": "https://localhost:8080/"
    },
    "id": "-vz9-vqfmAot",
    "outputId": "89224f1c-b4b1-4b52-b0c9-b8fe03cac3f8"
   },
   "outputs": [
    {
     "data": {
      "text/plain": [
       "[]"
      ]
     },
     "execution_count": 4,
     "metadata": {},
     "output_type": "execute_result"
    }
   ],
   "source": [
    "# Here we are extracting the reviewer names from the amazon's website\n",
    "names = soup.select('span.a-profile-name')[2:]\n",
    "names"
   ]
  },
  {
   "cell_type": "code",
   "execution_count": 5,
   "metadata": {
    "colab": {
     "base_uri": "https://localhost:8080/"
    },
    "id": "ZQ7de7APm_J-",
    "outputId": "486f181d-d752-4568-d2ed-f85c3577ffb9"
   },
   "outputs": [
    {
     "data": {
      "text/plain": [
       "0"
      ]
     },
     "execution_count": 5,
     "metadata": {},
     "output_type": "execute_result"
    }
   ],
   "source": [
    "len(names)"
   ]
  },
  {
   "cell_type": "code",
   "execution_count": 6,
   "metadata": {},
   "outputs": [
    {
     "data": {
      "text/plain": [
       "0"
      ]
     },
     "execution_count": 6,
     "metadata": {},
     "output_type": "execute_result"
    }
   ],
   "source": [
    "### Removing Duplicate values\n",
    "names = list(set(names))\n",
    "len(names)"
   ]
  },
  {
   "cell_type": "code",
   "execution_count": 7,
   "metadata": {
    "colab": {
     "base_uri": "https://localhost:8080/"
    },
    "id": "z6Kc_O_LnZmI",
    "outputId": "f48b862a-c2ab-496a-ad00-c85f554e6b26"
   },
   "outputs": [
    {
     "data": {
      "text/plain": [
       "[]"
      ]
     },
     "execution_count": 7,
     "metadata": {},
     "output_type": "execute_result"
    }
   ],
   "source": [
    "# Exporting Title of the reviews\n",
    "titles = soup.select('a.review-title span')\n",
    "titles"
   ]
  },
  {
   "cell_type": "code",
   "execution_count": 8,
   "metadata": {
    "id": "DIVVIRbopS7z"
   },
   "outputs": [
    {
     "data": {
      "text/plain": [
       "0"
      ]
     },
     "execution_count": 8,
     "metadata": {},
     "output_type": "execute_result"
    }
   ],
   "source": [
    "len(titles)"
   ]
  },
  {
   "cell_type": "code",
   "execution_count": 9,
   "metadata": {
    "id": "5jp3bAj2qWCG"
   },
   "outputs": [
    {
     "data": {
      "text/plain": [
       "[]"
      ]
     },
     "execution_count": 9,
     "metadata": {},
     "output_type": "execute_result"
    }
   ],
   "source": [
    "# Exporting Rating of the \n",
    "stars = soup.select('i.review-rating span.a-icon-alt')[2:]\n",
    "stars"
   ]
  },
  {
   "cell_type": "code",
   "execution_count": 10,
   "metadata": {
    "id": "fw-Imgn4rImN"
   },
   "outputs": [
    {
     "data": {
      "text/plain": [
       "0"
      ]
     },
     "execution_count": 10,
     "metadata": {},
     "output_type": "execute_result"
    }
   ],
   "source": [
    "len(stars)"
   ]
  },
  {
   "cell_type": "code",
   "execution_count": 11,
   "metadata": {
    "id": "TN6Oc3gqrMAG"
   },
   "outputs": [
    {
     "data": {
      "text/plain": [
       "[]"
      ]
     },
     "execution_count": 11,
     "metadata": {},
     "output_type": "execute_result"
    }
   ],
   "source": [
    "# Exporting main contain of the review\n",
    "reviews = soup.select('span.review-text-content span')\n",
    "reviews"
   ]
  },
  {
   "cell_type": "code",
   "execution_count": 12,
   "metadata": {
    "colab": {
     "base_uri": "https://localhost:8080/"
    },
    "id": "mJgeKf_9suLX",
    "outputId": "1e52d3b2-ac7b-4d4a-aa17-bcc2bd6fce86"
   },
   "outputs": [
    {
     "data": {
      "text/plain": [
       "0"
      ]
     },
     "execution_count": 12,
     "metadata": {},
     "output_type": "execute_result"
    }
   ],
   "source": [
    "len(reviews)"
   ]
  },
  {
   "cell_type": "code",
   "execution_count": 13,
   "metadata": {
    "colab": {
     "base_uri": "https://localhost:8080/",
     "height": 34
    },
    "id": "eVvM9M7RwRvw",
    "outputId": "ee560940-1e71-4297-ff93-808bc58b5eca"
   },
   "outputs": [
    {
     "ename": "IndexError",
     "evalue": "list index out of range",
     "output_type": "error",
     "traceback": [
      "\u001b[1;31m---------------------------------------------------------------------------\u001b[0m",
      "\u001b[1;31mIndexError\u001b[0m                                Traceback (most recent call last)",
      "Cell \u001b[1;32mIn[13], line 1\u001b[0m\n\u001b[1;32m----> 1\u001b[0m \u001b[43mnames\u001b[49m\u001b[43m[\u001b[49m\u001b[38;5;241;43m0\u001b[39;49m\u001b[43m]\u001b[49m\u001b[38;5;241m.\u001b[39mget_text()\n",
      "\u001b[1;31mIndexError\u001b[0m: list index out of range"
     ]
    }
   ],
   "source": [
    "names[0].get_text()"
   ]
  },
  {
   "cell_type": "code",
   "execution_count": null,
   "metadata": {
    "id": "ss82acZWs0MO"
   },
   "outputs": [],
   "source": [
    "# Grouping all the values\n",
    "cust_name = []\n",
    "ratings = []\n",
    "rev_title = []\n",
    "rev_content = []\n",
    "for i in range(len(names)):\n",
    "  cust_name.append(names[i].get_text())\n",
    "  ratings.append(stars[i].get_text())\n",
    "  rev_title.append(titles[i].get_text())\n",
    "  rev_content.append(reviews[i].get_text().strip(\"\\n \"))"
   ]
  },
  {
   "cell_type": "code",
   "execution_count": null,
   "metadata": {
    "id": "iFnzO03KwgHz"
   },
   "outputs": [],
   "source": [
    "rev_content"
   ]
  },
  {
   "cell_type": "code",
   "execution_count": null,
   "metadata": {
    "id": "CSekc-3Awixo"
   },
   "outputs": [],
   "source": [
    "import pandas as pd"
   ]
  },
  {
   "cell_type": "code",
   "execution_count": null,
   "metadata": {
    "colab": {
     "base_uri": "https://localhost:8080/",
     "height": 349
    },
    "id": "8ircq7R3yVgg",
    "outputId": "0a60f3ad-b058-4f5a-ad58-017381ec336c"
   },
   "outputs": [],
   "source": [
    "# Creatin a dataframe for storing all the reviews and other columns\n",
    "df = pd.DataFrame()\n",
    "df['Customer Name'] = cust_name\n",
    "df['Ratings'] = ratings\n",
    "df['Review Title'] = rev_title\n",
    "df['Reviews'] = rev_content\n",
    "df"
   ]
  },
  {
   "cell_type": "code",
   "execution_count": null,
   "metadata": {
    "id": "KLdJfztzyZMA"
   },
   "outputs": [],
   "source": [
    "# Downloading All the reviews \n",
    "df.to_csv(\"amazon.csv\")"
   ]
  },
  {
   "cell_type": "code",
   "execution_count": null,
   "metadata": {
    "id": "gYcecvWbzWQc"
   },
   "outputs": [],
   "source": [
    "cust_name = []\n",
    "ratings = []\n",
    "rev_title = []\n",
    "rev_content = []\n",
    "for page in range(1,10):\n",
    "  url = \"https://www.amazon.in/HP-LaserJet-M126nw-Multi-Function-Monochrome/product-reviews/B00LO3NQYY/ref=cm_cr_arp_d_paging_btm_next_2?ie=UTF8&reviewerType=all_reviews&pageNumber=\"+str(page)\n",
    "  code = requests.get(url)\n",
    "  if str(code) == \"<Response [200]>\":\n",
    "    soup = bs(code.content,'html.parser')\n",
    "    names = soup.select('span.a-profile-name')\n",
    "    titles = soup.select('a.review-title span')\n",
    "    stars = soup.select('i.review-rating span.a-icon-alt')\n",
    "    reviews = soup.select('span.review-text-content span')\n",
    "    for i in range(len(titles)):\n",
    "      cust_name.append(names[i].get_text())\n",
    "      ratings.append(stars[i].get_text())\n",
    "      rev_title.append(titles[i].get_text())\n",
    "      rev_content.append(reviews[i].get_text().strip(\"\\n \"))"
   ]
  },
  {
   "cell_type": "code",
   "execution_count": null,
   "metadata": {
    "id": "ufLEK3Oi36y-"
   },
   "outputs": [],
   "source": [
    "str(code) == \"<Response [200]>\""
   ]
  },
  {
   "cell_type": "code",
   "execution_count": null,
   "metadata": {},
   "outputs": [],
   "source": [
    "cust_name"
   ]
  },
  {
   "cell_type": "code",
   "execution_count": null,
   "metadata": {
    "colab": {
     "base_uri": "https://localhost:8080/",
     "height": 408
    },
    "id": "rVgyQHvf3b3x",
    "outputId": "8b3dd3ce-9a78-425f-c21a-d3701d9fa27b"
   },
   "outputs": [],
   "source": [
    "df_all = pd.DataFrame()\n",
    "df_all['Customer Name'] = cust_name\n",
    "df_all['Ratings'] = ratings\n",
    "df_all['Review Title'] = rev_title\n",
    "df_all['Reviews'] = rev_content\n",
    "df_all"
   ]
  },
  {
   "cell_type": "code",
   "execution_count": null,
   "metadata": {
    "scrolled": true
   },
   "outputs": [],
   "source": [
    "# Downloading All the 1000+ reviews\n",
    "df_all.to_csv(\"All_reviews.csv\")\n",
    "print(\"Successfully Downloaded\")"
   ]
  }
 ],
 "metadata": {
  "colab": {
   "provenance": []
  },
  "kernelspec": {
   "display_name": "Python 3 (ipykernel)",
   "language": "python",
   "name": "python3"
  },
  "language_info": {
   "codemirror_mode": {
    "name": "ipython",
    "version": 3
   },
   "file_extension": ".py",
   "mimetype": "text/x-python",
   "name": "python",
   "nbconvert_exporter": "python",
   "pygments_lexer": "ipython3",
   "version": "3.8.6"
  }
 },
 "nbformat": 4,
 "nbformat_minor": 1
}
